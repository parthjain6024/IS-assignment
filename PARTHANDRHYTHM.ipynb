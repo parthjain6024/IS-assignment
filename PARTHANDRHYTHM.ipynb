{
  "nbformat": 4,
  "nbformat_minor": 0,
  "metadata": {
    "colab": {
      "provenance": [],
      "authorship_tag": "ABX9TyM7KSdUMWsovzj3q/2JEmEW",
      "include_colab_link": true
    },
    "kernelspec": {
      "name": "python3",
      "display_name": "Python 3"
    },
    "language_info": {
      "name": "python"
    }
  },
  "cells": [
    {
      "cell_type": "markdown",
      "metadata": {
        "id": "view-in-github",
        "colab_type": "text"
      },
      "source": [
        "<a href=\"https://colab.research.google.com/github/parthjain6024/IS-assignment/blob/main/PARTHANDRHYTHM.ipynb\" target=\"_parent\"><img src=\"https://colab.research.google.com/assets/colab-badge.svg\" alt=\"Open In Colab\"/></a>"
      ]
    },
    {
      "cell_type": "code",
      "source": [
        "pip install pycryptodome"
      ],
      "metadata": {
        "colab": {
          "base_uri": "https://localhost:8080/"
        },
        "id": "1eMXTfBxPTPA",
        "outputId": "4c8884ee-ebd4-4857-e38f-03e61a1150ac"
      },
      "execution_count": 2,
      "outputs": [
        {
          "output_type": "stream",
          "name": "stdout",
          "text": [
            "Collecting pycryptodome\n",
            "  Downloading pycryptodome-3.21.0-cp36-abi3-manylinux_2_17_x86_64.manylinux2014_x86_64.whl.metadata (3.4 kB)\n",
            "Downloading pycryptodome-3.21.0-cp36-abi3-manylinux_2_17_x86_64.manylinux2014_x86_64.whl (2.3 MB)\n",
            "\u001b[2K   \u001b[90m━━━━━━━━━━━━━━━━━━━━━━━━━━━━━━━━━━━━━━━━\u001b[0m \u001b[32m2.3/2.3 MB\u001b[0m \u001b[31m26.0 MB/s\u001b[0m eta \u001b[36m0:00:00\u001b[0m\n",
            "\u001b[?25hInstalling collected packages: pycryptodome\n",
            "Successfully installed pycryptodome-3.21.0\n"
          ]
        }
      ]
    },
    {
      "cell_type": "code",
      "source": [
        "from Crypto.Cipher import DES\n",
        "import binascii\n",
        "\n",
        "key = b'8bytekey'\n",
        "\n",
        "def pad(text):\n",
        "    while len(text) % 8 != 0:\n",
        "        text += b' '\n",
        "    return text\n",
        "\n",
        "def encrypt(message, key):\n",
        "    des = DES.new(key, DES.MODE_ECB)\n",
        "    padded_message = pad(message)\n",
        "    encrypted_message = des.encrypt(padded_message)\n",
        "    return binascii.hexlify(encrypted_message).decode('utf-8')\n",
        "\n",
        "def decrypt(encrypted_message, key):\n",
        "    des = DES.new(key, DES.MODE_ECB)\n",
        "    encrypted_message = binascii.unhexlify(encrypted_message)\n",
        "    decrypted_message = des.decrypt(encrypted_message)\n",
        "    return decrypted_message.rstrip()\n",
        "\n",
        "message= b'Hello World'\n",
        "encrypted_message = encrypt(message, key)\n",
        "print(f'Encrypted: {encrypted_message}')\n",
        "decrypted_message = decrypt(encrypted_message, key)\n",
        "print(f'Decrypted: {decrypted_message}')"
      ],
      "metadata": {
        "colab": {
          "base_uri": "https://localhost:8080/"
        },
        "id": "oOc-SGR2Pa94",
        "outputId": "92c6b044-9279-4abb-8134-d3f47393bd98"
      },
      "execution_count": 3,
      "outputs": [
        {
          "output_type": "stream",
          "name": "stdout",
          "text": [
            "Encrypted: 702ada9e5d04f31434c5c7d9fda91e9a\n",
            "Decrypted: b'Hello World'\n"
          ]
        }
      ]
    }
  ]
}